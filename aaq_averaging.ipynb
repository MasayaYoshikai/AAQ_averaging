{
 "cells": [
  {
   "cell_type": "markdown",
   "id": "77267cb2",
   "metadata": {},
   "source": [
    "# Script that bins and averages AAQ data"
   ]
  },
  {
   "cell_type": "code",
   "execution_count": 1,
   "id": "7c472569",
   "metadata": {},
   "outputs": [],
   "source": [
    "import numpy as np\n",
    "import matplotlib.pyplot as plt\n",
    "import mod_aaq"
   ]
  },
  {
   "cell_type": "markdown",
   "id": "8615c5f3",
   "metadata": {},
   "source": [
    "## --- Configurations"
   ]
  },
  {
   "cell_type": "markdown",
   "id": "bbb6377d",
   "metadata": {},
   "source": [
    "### Settings to be changed for each data\n",
    "\n",
    "- dir_name: Directory of the folder where the AAQ data is stored\n",
    "- core_name: AAQ file name (without .csv)\n",
    "- bottom_id: Bottom cell ID (row number) in the csv file, below which the data is cutoff from the analysis\n",
    "- write_flag: Option to write output\n",
    "    - write_flag = 1: yes\n",
    "    - write_flag = 2: no"
   ]
  },
  {
   "cell_type": "code",
   "execution_count": 2,
   "id": "a8e197e0",
   "metadata": {},
   "outputs": [],
   "source": [
    "dir_name = 'C:/Users/yoshi/OneDrive/ドキュメント/Python Scripts/aaq_averaging'\n",
    "core_name = 'AAQ176-CAD_0434_20221128_075426_0001'\n",
    "bottom_id = 163\n",
    "write_flag = 1"
   ]
  },
  {
   "cell_type": "markdown",
   "id": "1e3d48ef",
   "metadata": {},
   "source": [
    "### Settings for averaging\n",
    "\n",
    "- dz: Bin thickness for averaging (m)\n",
    "- i_opt: Option to treat blank bins\n",
    "    - i_opt = 1: remove blank bins\n",
    "    - i_opt = 2: linear interpolation from the adjacent bins\n",
    "    - otherwise: leave blank bins as is"
   ]
  },
  {
   "cell_type": "code",
   "execution_count": 3,
   "id": "7d4930dd",
   "metadata": {},
   "outputs": [],
   "source": [
    "dz = 0.10\n",
    "i_opt = 1"
   ]
  },
  {
   "cell_type": "markdown",
   "id": "73c2cb7f",
   "metadata": {},
   "source": [
    "### Settings for plotting\n",
    "\n",
    "- fig_flag: Option to make a plot\n",
    "    - fig_flag = 1: yes\n",
    "    - otherwise: no\n",
    "- fig_var_id: Choice of 4 variables to plot\n",
    "\n",
    "| Temp | Sal | Cond | EC25 | Density | SigmaT | Chl-Flu | Chl-a | Turb | pH | DO (%) | DO (mg/L) | PAR | \n",
    "|:----:|:---:|:----:|:----:|:-------:|:------:|:-------:|:-----:|:----:|:--:|:------:|:---------:|:---:|\n",
    "| 1 | 2 | 3 | 4 | 5 | 6 | 7 | 8 | 9 | 10 | 11 | 12 | 13 |\n",
    "<style>\n",
    "table {float:left}\n",
    "</style>"
   ]
  },
  {
   "cell_type": "code",
   "execution_count": 4,
   "id": "bad3cff0",
   "metadata": {},
   "outputs": [],
   "source": [
    "fig_flag = 1\n",
    "fig_var_id = [1, 2, 8, 12]"
   ]
  },
  {
   "cell_type": "markdown",
   "id": "60a960b1",
   "metadata": {},
   "source": [
    "### Axis control\n",
    "\n",
    "- xasis_adjust: Adjust x-axes of the four variables [plot1, plot2, plot3, plot4]\n",
    "    - xasis_adjust = 1: yes\n",
    "    - otherwise: auto-adjust\n",
    "- yasis_adjust: Adjust y-axes (Depth)\n",
    "    - yasis_adjust = 1: yes\n",
    "    - otherwise: auto-adjust\n",
    "- dep_lim: Y-axis (depth) range; [mix, max]: (when yaxis_adjust = 1)\n",
    "- dep_dy: Y-axis tick interval: (when yaxis_adjust = 1)\n",
    "- xlim_XX: X-axis range for each variable; [mix, max]: (when xaxis_adjust = 1)\n",
    "- dx_XX: X-axis tick interval for each variable: (when yaxis_adjust = 1)"
   ]
  },
  {
   "cell_type": "code",
   "execution_count": 5,
   "id": "4c81e875",
   "metadata": {},
   "outputs": [],
   "source": [
    "xaxis_adjust = [1, 1, 1, 1]\n",
    "yaxis_adjust = 1\n",
    "# --- Y axis range and tick interval --- #\n",
    "dep_lim     = [0, 3]\n",
    "dep_dy      = 1\n",
    "# --- X-axis range --- #\n",
    "xlim_temp    = [26.0, 31.0]\n",
    "xlim_sal     = [30, 34]\n",
    "xlim_cond    = [0, 100]\n",
    "xlim_EC25    = [40000, 50000]\n",
    "xlim_density = [1000, 1030]\n",
    "xlim_sigmaT  = [0, 1030]\n",
    "xlim_Chl_flu = [0, 50]\n",
    "xlim_Chl_a   = [0, 50]\n",
    "xlim_turb    = [0, 50]\n",
    "xlim_ph      = [7, 8.5]\n",
    "xlim_DO_sat  = [0, 100]\n",
    "xlim_DO      = [0, 8]\n",
    "xlim_PAR     = [0, 1000]\n",
    "# --- X-axis tick interval --- #\n",
    "dx_temp    = 2\n",
    "dx_sal     = 2\n",
    "dx_cond    = 20\n",
    "dx_EC25    = 10000\n",
    "dx_density = 2\n",
    "dx_sigmaT  = 2\n",
    "dx_Chl_flu = 10\n",
    "dx_Chl_a   = 10\n",
    "dx_turb    = 10\n",
    "dx_ph      = 0.2\n",
    "dx_DO_sat  = 10\n",
    "dx_DO      = 2\n",
    "dx_PAR     = 100"
   ]
  },
  {
   "cell_type": "markdown",
   "id": "64f58ec8",
   "metadata": {},
   "source": [
    "### Figure control\n",
    "\n",
    "- fig_size: Figure size [width, height]\n",
    "- fig_space: Spaces between the subplots [wspace, hspace]\n",
    "- data_linethck: Data line thickness\n",
    "- ax_linethck: Axis line thickness\n",
    "- fontsize_ax: Axis ticks font size\n",
    "- fontsize_label: Axis label font size\n",
    "- marker_option: Include markers at data points; 'on': yes, otherwise: no\n",
    "    - marker_option = 'on': yes\n",
    "    - otherwise: no\n",
    "- marker_sybol: Marker symbol; e.g. 'o', '^', 'v', 's', 'x'\n",
    "- marker_size: Marker size"
   ]
  },
  {
   "cell_type": "code",
   "execution_count": 6,
   "id": "9922303c",
   "metadata": {},
   "outputs": [],
   "source": [
    "fig_size = [6.0, 7.0]\n",
    "fig_space = [0.4, 0.3]\n",
    "data_linethck  = 1.2\n",
    "ax_linethck    = 0.7\n",
    "fontsize_ax    = 9\n",
    "fontsize_label = 12\n",
    "marker_option  = 'on'\n",
    "marker_sybol   = 'o'\n",
    "marker_size    = 5"
   ]
  },
  {
   "cell_type": "markdown",
   "id": "dc5a76ac",
   "metadata": {},
   "source": [
    "## --- End of Configurations"
   ]
  },
  {
   "cell_type": "markdown",
   "id": "6b41830a",
   "metadata": {},
   "source": [
    "## &darr; Code of averaging & plotting &darr;"
   ]
  },
  {
   "cell_type": "code",
   "execution_count": 7,
   "id": "7f15d7c3",
   "metadata": {},
   "outputs": [],
   "source": [
    "def main(dir_name, core_name, bottom_id, dz, i_opt):\n",
    "    mod_aaq\n",
    "\n",
    "if __name__ == '__main__':\n",
    "    \n",
    "    # Read AAQ csv file\n",
    "    [headers, data_array] = mod_aaq.read_aaq_data(dir_name, core_name, \\\n",
    "                                                  bottom_id)\n",
    "    \n",
    "    # Binning data along water depth with a thickness dz    \n",
    "    [dep_bin, bin_array] = mod_aaq.aaq_bin(data_array, dz, i_opt)\n",
    "    \n",
    "    # Write binned data to csv file\n",
    "    mod_aaq.csv_write_aaq(write_flag, core_name, headers, bin_array)\n",
    "    \n",
    "    # Make plots\n",
    "        \n",
    "    plt.close('all')\n",
    "    if fig_flag == 1:\n",
    "        \n",
    "        # Make plots in a seperate window\n",
    "        %matplotlib qt\n",
    "        \n",
    "        fig = plt.figure(figsize=(fig_size))\n",
    "        \n",
    "        axes= fig.subplots(2, 2)\n",
    "    \n",
    "        plt.subplots_adjust(wspace=fig_space[0], hspace=fig_space[1])\n",
    "        \n",
    "        for i in range(0,4):\n",
    "            [bin_data, x_lim, x_ticks, xlabel] = mod_aaq.fig_param(fig_var_id[i], \\\n",
    "                              bin_array, xlim_temp, xlim_sal, xlim_cond, \n",
    "                              xlim_EC25, xlim_density, xlim_sigmaT, xlim_Chl_flu, \\\n",
    "                              xlim_Chl_a, xlim_turb, xlim_ph, xlim_DO_sat, \\\n",
    "                              xlim_DO, xlim_PAR, dx_temp, dx_sal, dx_cond, \\\n",
    "                              dx_EC25, dx_density, dx_sigmaT, dx_Chl_flu, \\\n",
    "                              dx_Chl_a, dx_turb, dx_ph, dx_DO_sat, dx_DO, dx_PAR)\n",
    "                \n",
    "            if i == 0:\n",
    "                ax = axes[0][0]\n",
    "            elif i == 1:\n",
    "                ax = axes[0][1]\n",
    "            elif i == 2:\n",
    "                ax = axes[1][0]\n",
    "            elif i == 3:\n",
    "                ax = axes[1][1]\n",
    "    \n",
    "            if marker_option == 'on':\n",
    "                ax.plot(bin_data, dep_bin, marker=marker_sybol, linestyle='-',\n",
    "                        linewidth=data_linethck, markersize=marker_size)\n",
    "            else:\n",
    "                ax.plot(bin_data, dep_bin, linewidth=data_linethck)\n",
    "                    \n",
    "            if xaxis_adjust[i] == 1:\n",
    "                ax.set_xlim(x_lim[0],x_lim[1])\n",
    "                ax.set_xticks(x_ticks) \n",
    "                ax.set_xticklabels(x_ticks,fontsize=fontsize_ax)\n",
    "            else:\n",
    "                xticklabels = ax.get_xticklabels()\n",
    "                xticks = ax.get_xticks()\n",
    "                ax.set_xticks(xticks) \n",
    "                ax.set_xticklabels(xticklabels,fontsize=fontsize_ax)\n",
    "                \n",
    "            if yaxis_adjust == 1:\n",
    "                dep_ticks = np.arange(dep_lim[0], dep_lim[1]+0.5*dep_dy, dep_dy)    \n",
    "                ax.set_ylim(dep_lim[0],dep_lim[1])\n",
    "                ax.set_yticks(dep_ticks) \n",
    "                ax.set_yticklabels(dep_ticks,fontsize=fontsize_ax)\n",
    "            else:\n",
    "                yticklabels = ax.get_yticklabels()\n",
    "                #yticks = ax.get_yticks()\n",
    "                #ax.set_yticks(yticks) \n",
    "                ax.set_yticklabels(yticklabels,fontsize=fontsize_ax)\n",
    "            \n",
    "            ax.invert_yaxis()\n",
    "            ax.set_xlabel(xlabel,fontsize=fontsize_label)\n",
    "            ax.set_ylabel('Depth (m)',fontsize=fontsize_label)\n",
    "            \n",
    "            # change all spines\n",
    "            for axis in ['top','bottom','left','right']:\n",
    "                ax.spines[axis].set_linewidth(ax_linethck)\n",
    "            # increase tick width\n",
    "            ax.tick_params(width=ax_linethck)\n",
    "        \n",
    "        plt.show()\n"
   ]
  }
 ],
 "metadata": {
  "kernelspec": {
   "display_name": "Python 3 (ipykernel)",
   "language": "python",
   "name": "python3"
  },
  "language_info": {
   "codemirror_mode": {
    "name": "ipython",
    "version": 3
   },
   "file_extension": ".py",
   "mimetype": "text/x-python",
   "name": "python",
   "nbconvert_exporter": "python",
   "pygments_lexer": "ipython3",
   "version": "3.10.9"
  }
 },
 "nbformat": 4,
 "nbformat_minor": 5
}
